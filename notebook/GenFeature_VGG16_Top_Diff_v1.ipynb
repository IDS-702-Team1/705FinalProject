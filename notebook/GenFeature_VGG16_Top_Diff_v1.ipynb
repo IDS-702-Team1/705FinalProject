{
 "cells": [
  {
   "cell_type": "code",
   "execution_count": 1,
   "metadata": {},
   "outputs": [],
   "source": [
    "from tensorflow.keras.applications.vgg16 import VGG16\n",
    "from tensorflow.keras.preprocessing import image\n",
    "from tensorflow.keras.applications.vgg16 import preprocess_input\n",
    "from tensorflow.keras.models import Model\n",
    "import numpy as np\n",
    "import pandas as pd\n",
    "from tqdm import tqdm\n",
    "\n",
    "def conver_image_to_features(model, img_path, img_resize = (224, 224)):\n",
    "    img = image.load_img(img_path, target_size=img_resize)\n",
    "    x = image.img_to_array(img)\n",
    "    x = np.expand_dims(x, axis=0)\n",
    "    x = preprocess_input(x)\n",
    "    features = model.predict(x)\n",
    "    return features.reshape(-1)\n",
    "\n",
    "def create_features_dataframe_by_diff_feature(model, train_csv):\n",
    "    df = pd.read_csv(train_csv)\n",
    "\n",
    "    image_features = []\n",
    "\n",
    "    for ind, row in tqdm(df.iterrows(), total=df.shape[0]):\n",
    "        feature = conver_image_to_features(model, row[\"img1\"]) - \\\n",
    "                  conver_image_to_features(model, row[\"img2\"])\n",
    "\n",
    "        image_features.append(np.append(feature, row[\"same\"]))\n",
    "\n",
    "    return pd.DataFrame().from_records(image_features)\n",
    "\n",
    "def genearte_image_feature_file(input, output, decimal_number=3):\n",
    "\n",
    "    # last layer\n",
    "    model = VGG16(weights=\"imagenet\", include_top=False)\n",
    "    res_df = create_features_dataframe_by_diff_feature(model, input)\n",
    "    fplace = '%.{}f'.format(decimal_number)\n",
    "    res_df.to_csv(output, index=False, header=False, float_format=fplace)"
   ]
  },
  {
   "cell_type": "code",
   "execution_count": null,
   "metadata": {},
   "outputs": [],
   "source": [
    "genearte_image_feature_file(\"./min_index.csv\", \"min_feature.csv\")"
   ]
  },
  {
   "cell_type": "code",
   "execution_count": null,
   "metadata": {},
   "outputs": [],
   "source": []
  }
 ],
 "metadata": {
  "kernelspec": {
   "display_name": "Python 3",
   "language": "python",
   "name": "python3"
  },
  "language_info": {
   "codemirror_mode": {
    "name": "ipython",
    "version": 3
   },
   "file_extension": ".py",
   "mimetype": "text/x-python",
   "name": "python",
   "nbconvert_exporter": "python",
   "pygments_lexer": "ipython3",
   "version": "3.6.12"
  }
 },
 "nbformat": 4,
 "nbformat_minor": 4
}
