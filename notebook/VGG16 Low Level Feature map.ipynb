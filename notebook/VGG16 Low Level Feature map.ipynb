{
 "cells": [
  {
   "cell_type": "code",
   "execution_count": 2,
   "metadata": {},
   "outputs": [],
   "source": [
    "from tensorflow.keras.applications.vgg16 import VGG16\n",
    "from tensorflow.keras.preprocessing import image\n",
    "from tensorflow.keras.applications.vgg16 import preprocess_input\n",
    "from tensorflow.keras.models import Model  \n",
    "import numpy as np\n",
    "import pandas as pd"
   ]
  },
  {
   "cell_type": "code",
   "execution_count": 4,
   "metadata": {
    "scrolled": true
   },
   "outputs": [
    {
     "name": "stdout",
     "output_type": "stream",
     "text": [
      "Downloading data from https://storage.googleapis.com/tensorflow/keras-applications/vgg16/vgg16_weights_tf_dim_ordering_tf_kernels.h5\n",
      "553467904/553467096 [==============================] - 79s 0us/step\n"
     ]
    }
   ],
   "source": [
    "# last layer\n",
    "base_model = VGG16(weights=\"imagenet\")\n",
    "model = Model(inputs=base_model.input, outputs=base_model.get_layer('block1_pool').output)"
   ]
  },
  {
   "cell_type": "code",
   "execution_count": null,
   "metadata": {},
   "outputs": [],
   "source": [
    "from keras.preprocessing.image import img_to_array\n",
    "from numpy import expand_dims\n",
    "from matplotlib import pyplot\n",
    "\n",
    "# img_path = '../py/img_train/pos/2_A.jpg'\n",
    "\n",
    "\n",
    "def draw_feature_map(img_path_a, img_path_b):\n",
    "    img_resize = (224, 224)\n",
    "\n",
    "    img_a = image.load_img(img_path_a, target_size=img_resize)\n",
    "    img_b = image.load_img(img_path_b, target_size=img_resize)\n",
    "\n",
    "    img_a = img_to_array(img_a)\n",
    "    img_a = expand_dims(img_a, axis=0)\n",
    "    img_a = preprocess_input(img_a)\n",
    "\n",
    "    img_b = img_to_array(img_b)\n",
    "    img_b = expand_dims(img_b, axis=0)\n",
    "    img_b = preprocess_input(img_b)\n",
    "\n",
    "    # Get feature map for the first hidden layer\n",
    "    feature_maps_a = model.predict(img_a)\n",
    "    feature_maps_b = model.predict(img_b)\n",
    "\n",
    "    fig = pyplot.figure(figsize=(20, 10))\n",
    "\n",
    "    square = 8\n",
    "    ix = 0\n",
    "    position = 1\n",
    "    for _ in range(square * 2):\n",
    "        for _ in range(square):\n",
    "\n",
    "            # specify subplot and turn off axis\n",
    "            ax = pyplot.subplot(square, square*2, position)\n",
    "            ax.set_xticks([])\n",
    "            ax.set_yticks([])\n",
    "            ax.set_title(\"{}_A\".format(ix))\n",
    "            # plot filter channel in grayscale\n",
    "            pyplot.imshow(feature_maps_a[0, :, :, ix])\n",
    "\n",
    "            position += 1\n",
    "\n",
    "            ax = pyplot.subplot(square, square*2, position)\n",
    "            ax.set_xticks([])\n",
    "            ax.set_yticks([])\n",
    "            ax.set_title(\"{}_B\".format(ix))\n",
    "            # plot filter channel in grayscale\n",
    "            pyplot.imshow(feature_maps_b[0, :, :, ix])\n",
    "\n",
    "\n",
    "            position += 1\n",
    "            ix += 1\n",
    "\n",
    "    # show the figure\n",
    "    pyplot.show()"
   ]
  }
 ],
 "metadata": {
  "kernelspec": {
   "display_name": "Python 3",
   "language": "python",
   "name": "python3"
  },
  "language_info": {
   "codemirror_mode": {
    "name": "ipython",
    "version": 3
   },
   "file_extension": ".py",
   "mimetype": "text/x-python",
   "name": "python",
   "nbconvert_exporter": "python",
   "pygments_lexer": "ipython3",
   "version": "3.8.5"
  }
 },
 "nbformat": 4,
 "nbformat_minor": 4
}
