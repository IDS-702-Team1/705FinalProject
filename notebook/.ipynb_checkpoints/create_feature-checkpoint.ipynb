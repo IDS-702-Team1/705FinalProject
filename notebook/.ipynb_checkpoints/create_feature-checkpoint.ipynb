{
 "cells": [
  {
   "cell_type": "code",
   "execution_count": 14,
   "metadata": {},
   "outputs": [],
   "source": [
    "from tensorflow.keras.applications.vgg16 import VGG16\n",
    "from tensorflow.keras.preprocessing import image\n",
    "from tensorflow.keras.applications.vgg16 import preprocess_input\n",
    "from tensorflow.keras.models import Model  \n",
    "import numpy as np\n",
    "import pandas as pd"
   ]
  },
  {
   "cell_type": "code",
   "execution_count": 2,
   "metadata": {},
   "outputs": [
    {
     "name": "stdout",
     "output_type": "stream",
     "text": [
      "Downloading data from https://storage.googleapis.com/tensorflow/keras-applications/vgg16/vgg16_weights_tf_dim_ordering_tf_kernels_notop.h5\n",
      "58892288/58889256 [==============================] - 897s 15us/step\n"
     ]
    }
   ],
   "source": [
    "# last layer\n",
    "model = VGG16(weights=\"imagenet\", include_top=False)"
   ]
  },
  {
   "cell_type": "code",
   "execution_count": 6,
   "metadata": {},
   "outputs": [],
   "source": [
    "def conver_image_to_features(model, img_path, img_resize = (224, 224)):\n",
    "    img = image.load_img(img_path, target_size=img_resize)\n",
    "    x = image.img_to_array(img)\n",
    "    x = np.expand_dims(x, axis=0)\n",
    "    x = preprocess_input(x)\n",
    "    features = model.predict(x)\n",
    "    return features.reshape(-1) # convert to 1 dimention"
   ]
  },
  {
   "cell_type": "code",
   "execution_count": 12,
   "metadata": {},
   "outputs": [
    {
     "name": "stdout",
     "output_type": "stream",
     "text": [
      "[0. 0. 0. ... 0. 0. 0.]\n"
     ]
    }
   ],
   "source": [
    "# Test Fucntion\n",
    "res = conver_image_to_features(model, \"../py/img_train/pos/2_A.jpg\")\n",
    "print(res)"
   ]
  },
  {
   "cell_type": "code",
   "execution_count": 80,
   "metadata": {},
   "outputs": [],
   "source": [
    "def create_train_data_from_images(model, train_csv):\n",
    "    df = pd.read_csv(train_csv)\n",
    "    \n",
    "    image_features = []\n",
    "    \n",
    "    for ind, row in df.iterrows():\n",
    "        print(\"processing {} of {}\".format(ind+1, df.shape[0]))\n",
    "        image_features.append(\n",
    "            (conver_image_to_features(model, row[\"img1\"]),\n",
    "             conver_image_to_features(model, row[\"img2\"]),\n",
    "             row[\"same\"]))\n",
    "        \n",
    "    res = pd.DataFrame({\n",
    "        \"x1\" : [x[0] for x in image_features],\n",
    "        \"x2\" : [x[1] for x in image_features],\n",
    "        \"y\" : [x[2] for x in image_features],\n",
    "    })\n",
    "    \n",
    "    return res"
   ]
  },
  {
   "cell_type": "code",
   "execution_count": 27,
   "metadata": {},
   "outputs": [],
   "source": [
    "# save Training data to file \n",
    "# res_df = create_train_data_from_images(model, \"./min_index.csv\")\n",
    "# res_df.to_csv(\"min_feature.csv\", index=False)"
   ]
  },
  {
   "cell_type": "code",
   "execution_count": 67,
   "metadata": {},
   "outputs": [],
   "source": [
    "# convert image to feature \n",
    "#train_df = create_train_data_from_images(model, \"./test_index.csv\")\n",
    "train_df = create_train_data_from_images(model, \"./train_index.csv\")\n",
    "train_X = pd.DataFrame.from_records(train_df.x1 - train_df.x2)\n",
    "train_y = train_df[\"y\"]"
   ]
  },
  {
   "cell_type": "code",
   "execution_count": 75,
   "metadata": {},
   "outputs": [],
   "source": [
    "# convert image to feature \n",
    "test_df = create_train_data_from_images(model, \"./test_index.csv\")\n",
    "test_X = pd.DataFrame.from_records(test_df.x1 - test_df.x2)\n",
    "test_y = test_df[\"y\"]"
   ]
  },
  {
   "cell_type": "code",
   "execution_count": 76,
   "metadata": {},
   "outputs": [
    {
     "data": {
      "text/plain": [
       "RandomForestClassifier(max_depth=2, random_state=0)"
      ]
     },
     "execution_count": 76,
     "metadata": {},
     "output_type": "execute_result"
    }
   ],
   "source": [
    "# Training Model\n",
    "from sklearn.ensemble import RandomForestClassifier\n",
    "\n",
    "clf = RandomForestClassifier(max_depth=2, random_state=0)\n",
    "clf.fit(train_X, train_y)"
   ]
  },
  {
   "cell_type": "code",
   "execution_count": 79,
   "metadata": {},
   "outputs": [
    {
     "name": "stdout",
     "output_type": "stream",
     "text": [
      "Training Accuracy: 0.97\n",
      "Test Accuracy: 0.45\n"
     ]
    }
   ],
   "source": [
    "# Run on test\n",
    "from sklearn import metrics\n",
    "\n",
    "y_pred_train=clf.predict(train_X)\n",
    "print(\"Training Accuracy:\",metrics.accuracy_score(train_y, y_pred_train))\n",
    "\n",
    "y_pred_test=clf.predict(test_X)\n",
    "# Model Accuracy, how often is the classifier correct?\n",
    "print(\"Test Accuracy:\",metrics.accuracy_score(test_y, y_pred_test))"
   ]
  },
  {
   "cell_type": "code",
   "execution_count": null,
   "metadata": {},
   "outputs": [],
   "source": []
  }
 ],
 "metadata": {
  "kernelspec": {
   "display_name": "Python 3",
   "language": "python",
   "name": "python3"
  },
  "language_info": {
   "codemirror_mode": {
    "name": "ipython",
    "version": 3
   },
   "file_extension": ".py",
   "mimetype": "text/x-python",
   "name": "python",
   "nbconvert_exporter": "python",
   "pygments_lexer": "ipython3",
   "version": "3.6.12"
  }
 },
 "nbformat": 4,
 "nbformat_minor": 4
}
