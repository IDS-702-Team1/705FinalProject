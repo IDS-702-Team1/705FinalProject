{
 "cells": [
  {
   "cell_type": "code",
   "execution_count": 20,
   "metadata": {},
   "outputs": [],
   "source": [
    "from tensorflow.keras.applications.vgg16 import VGG16\n",
    "from tensorflow.keras.preprocessing import image\n",
    "from tensorflow.keras.applications.vgg16 import preprocess_input\n",
    "from tensorflow.keras.models import Model  \n",
    "import numpy as np\n",
    "import pandas as pd\n",
    "from tqdm import tqdm\n",
    "import timeit\n",
    "\n",
    "# Training Model\n",
    "from sklearn.ensemble import RandomForestClassifier\n",
    "from sklearn import metrics\n",
    "import matplotlib.pyplot as plt \n"
   ]
  },
  {
   "cell_type": "code",
   "execution_count": 2,
   "metadata": {},
   "outputs": [],
   "source": [
    "def conver_image_to_features(model, img_path, img_resize = (224, 224)):\n",
    "    img = image.load_img(img_path, target_size=img_resize)\n",
    "    x = image.img_to_array(img)\n",
    "    x = np.expand_dims(x, axis=0)\n",
    "    x = preprocess_input(x)\n",
    "    features = model.predict(x)\n",
    "    return features.reshape(-1) \n",
    "\n",
    "def image2feature(model, train_csv):\n",
    "    df = pd.read_csv(train_csv)\n",
    "    \n",
    "    image_features = []\n",
    "\n",
    "    for ind, row in tqdm(df.iterrows(), total=df.shape[0], desc=\"image2feature\"):\n",
    "        try:\n",
    "            image_features.append(\n",
    "                (conver_image_to_features(model, row[\"img1\"]),\n",
    "                 conver_image_to_features(model, row[\"img2\"]),\n",
    "                 row[\"same\"]))\n",
    "        except:\n",
    "            print(\"error image {} or \".format(row[\"img1\"], row[\"img2\"]))\n",
    "        \n",
    "    res = pd.DataFrame({\n",
    "        \"x1\" : [x[0] for x in image_features],\n",
    "        \"x2\" : [x[1] for x in image_features],\n",
    "        \"y\" : [x[2] for x in image_features],\n",
    "    })\n",
    "    \n",
    "    return res\n",
    "\n",
    "\n",
    "def gen_input_data(model, index_csv):\n",
    "    df = image2feature(model, index_csv)\n",
    "    X = pd.DataFrame.from_records(df.x1 - df.x2)\n",
    "    y = df[\"y\"]\n",
    "    \n",
    "    return df, X, y"
   ]
  },
  {
   "cell_type": "code",
   "execution_count": 22,
   "metadata": {},
   "outputs": [],
   "source": [
    "def run_random_forest_precedure(train_csv, test_csv):\n",
    "\n",
    "    start = timeit.default_timer()\n",
    "    \n",
    "    # Extract feature model\n",
    "    feature_model = VGG16(weights=\"imagenet\", include_top=False)\n",
    "    \n",
    "    train_df, train_X, train_y = gen_input_data(feature_model, train_csv)\n",
    "    test_df, test_X, test_y = gen_input_data(feature_model, test_csv)\n",
    "\n",
    "    clf = RandomForestClassifier(max_depth=2, random_state=0)\n",
    "    clf.fit(train_X, train_y)\n",
    "\n",
    "    y_pred_train=clf.predict(train_X)\n",
    "    print(\"Training Accuracy:\",metrics.accuracy_score(train_y, y_pred_train))\n",
    "\n",
    "    y_pred_test=clf.predict(test_X)\n",
    "    # Model Accuracy, how often is the classifier correct?\n",
    "    print(\"Test Accuracy:\",metrics.accuracy_score(test_y, y_pred_test))\n",
    "\n",
    "    classifiers = [(train_X, train_y, \"train\"), (test_X, test_y, \"test\")]\n",
    "    ax = plt.gca()\n",
    "    for X, y, name in classifiers:\n",
    "        metrics.plot_roc_curve(clf, X, y, name=name, ax=ax)  \n",
    "        \n",
    "    #Your statements here\n",
    "    stop = timeit.default_timer()\n",
    "    print('Duration: ', stop - start) \n"
   ]
  },
  {
   "cell_type": "code",
   "execution_count": 17,
   "metadata": {},
   "outputs": [
    {
     "name": "stderr",
     "output_type": "stream",
     "text": [
      "image2feature: 100%|██████████| 20/20 [00:05<00:00,  3.74it/s]\n",
      "image2feature: 100%|██████████| 200/200 [00:52<00:00,  3.83it/s]\n"
     ]
    },
    {
     "name": "stdout",
     "output_type": "stream",
     "text": [
      "Training Accuracy: 1.0\n",
      "Test Accuracy: 0.475\n"
     ]
    },
    {
     "data": {
      "image/png": "[encoded data removed]",
      "text/plain": [
       "<Figure size 432x288 with 1 Axes>"
      ]
     },
     "metadata": {
      "needs_background": "light"
     },
     "output_type": "display_data"
    }
   ],
   "source": [
    "# mini\n",
    "run_random_forest_precedure(\"./min_index.csv\", \"./test_200.csv\")"
   ]
  },
  {
   "cell_type": "code",
   "execution_count": 23,
   "metadata": {},
   "outputs": [
    {
     "name": "stderr",
     "output_type": "stream",
     "text": [
      "image2feature:  52%|█████▏    | 261/500 [01:09<01:01,  3.91it/s]"
     ]
    },
    {
     "name": "stdout",
     "output_type": "stream",
     "text": [
      "error image ../../data/train_1/10509.jpg or \n"
     ]
    },
    {
     "name": "stderr",
     "output_type": "stream",
     "text": [
      "image2feature: 100%|██████████| 500/500 [02:12<00:00,  3.78it/s]\n",
      "image2feature: 100%|██████████| 200/200 [00:51<00:00,  3.85it/s]\n"
     ]
    },
    {
     "name": "stdout",
     "output_type": "stream",
     "text": [
      "Training Accuracy: 0.9278557114228457\n",
      "Test Accuracy: 0.61\n",
      "Duration:  191.5303742\n"
     ]
    },
    {
     "data": {
      "image/png": "[encoded data removed]",
      "text/plain": [
       "<Figure size 432x288 with 1 Axes>"
      ]
     },
     "metadata": {
      "needs_background": "light"
     },
     "output_type": "display_data"
    }
   ],
   "source": [
    "# 500\n",
    "run_random_forest_precedure(\"./train_500.csv\", \"./test_200.csv\")"
   ]
  },
  {
   "cell_type": "code",
   "execution_count": 24,
   "metadata": {},
   "outputs": [
    {
     "name": "stderr",
     "output_type": "stream",
     "text": [
      "image2feature:   5%|▌         | 101/2000 [00:26<08:30,  3.72it/s]"
     ]
    },
    {
     "name": "stdout",
     "output_type": "stream",
     "text": [
      "error image ../../data/train_1/10509.jpg or \n"
     ]
    },
    {
     "name": "stderr",
     "output_type": "stream",
     "text": [
      "image2feature:  22%|██▏       | 437/2000 [01:59<07:00,  3.71it/s]C:\\Users\\DELL\\.conda\\envs\\tf2_bert\\lib\\site-packages\\PIL\\Image.py:2837: DecompressionBombWarning: Image size (131790400 pixels) exceeds limit of 89478485 pixels, could be decompression bomb DOS attack.\n",
      "  DecompressionBombWarning,\n",
      "image2feature:  66%|██████▋   | 1326/2000 [06:09<03:21,  3.35it/s]C:\\Users\\DELL\\.conda\\envs\\tf2_bert\\lib\\site-packages\\PIL\\Image.py:2837: DecompressionBombWarning: Image size (129097476 pixels) exceeds limit of 89478485 pixels, could be decompression bomb DOS attack.\n",
      "  DecompressionBombWarning,\n",
      "image2feature:  99%|█████████▉| 1988/2000 [09:20<00:02,  4.22it/s]"
     ]
    },
    {
     "name": "stdout",
     "output_type": "stream",
     "text": [
      "error image ../../data/train_3/3917.jpg or \n"
     ]
    },
    {
     "name": "stderr",
     "output_type": "stream",
     "text": [
      "image2feature: 100%|██████████| 2000/2000 [09:23<00:00,  3.55it/s]\n",
      "image2feature: 100%|██████████| 200/200 [00:55<00:00,  3.60it/s]\n"
     ]
    },
    {
     "name": "stdout",
     "output_type": "stream",
     "text": [
      "Training Accuracy: 0.8173173173173173\n",
      "Test Accuracy: 0.56\n",
      "Duration:  639.6561017\n"
     ]
    },
    {
     "data": {
      "image/png": "[encoded data removed]",
      "text/plain": [
       "<Figure size 432x288 with 1 Axes>"
      ]
     },
     "metadata": {
      "needs_background": "light"
     },
     "output_type": "display_data"
    }
   ],
   "source": [
    "# 2000\n",
    "run_random_forest_precedure(\"./train_2000.csv\", \"./test_200.csv\")"
   ]
  },
  {
   "cell_type": "code",
   "execution_count": null,
   "metadata": {},
   "outputs": [],
   "source": [
    "# 5000\n",
    "run_random_forest_precedure(\"./train_5000.csv\", \"./test_500.csv\")"
   ]
  },
  {
   "cell_type": "code",
   "execution_count": null,
   "metadata": {},
   "outputs": [],
   "source": [
    "# 10000\n",
    "run_random_forest_precedure(\"./train_10000.csv\", \"./test_500.csv\")"
   ]
  },
  {
   "cell_type": "code",
   "execution_count": null,
   "metadata": {},
   "outputs": [],
   "source": [
    "# 20000\n",
    "run_random_forest_precedure(\"./train_20000.csv\", \"./test_500.csv\")"
   ]
  },
  {
   "cell_type": "code",
   "execution_count": null,
   "metadata": {},
   "outputs": [],
   "source": [
    "# 50000\n",
    "run_random_forest_precedure(\"./train_50000.csv\", \"./test_500.csv\")"
   ]
  }
 ],
 "metadata": {
  "kernelspec": {
   "display_name": "Python 3",
   "language": "python",
   "name": "python3"
  },
  "language_info": {
   "codemirror_mode": {
    "name": "ipython",
    "version": 3
   },
   "file_extension": ".py",
   "mimetype": "text/x-python",
   "name": "python",
   "nbconvert_exporter": "python",
   "pygments_lexer": "ipython3",
   "version": "3.8.5"
  }
 },
 "nbformat": 4,
 "nbformat_minor": 4
}
